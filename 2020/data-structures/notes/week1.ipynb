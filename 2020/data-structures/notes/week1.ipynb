{
 "cells": [
  {
   "cell_type": "code",
   "execution_count": 1,
   "metadata": {},
   "outputs": [
    {
     "name": "stderr",
     "output_type": "stream",
     "text": [
      "\u001b[1minput_line_7:2:4: \u001b[0m\u001b[0;1;31merror: \u001b[0m\u001b[1minvalid preprocessing directive\u001b[0m\n",
      " # Week 1 - Part 1: Basics of C++\n",
      "\u001b[0;1;32m   ^\n",
      "\u001b[0m\u001b[1minput_line_7:3:1: \u001b[0m\u001b[0;1;31merror: \u001b[0m\u001b[1mexpected expression\u001b[0m\n",
      "> A walkthrough the basics of the C++ \n",
      "\u001b[0;1;32m^\n",
      "\u001b[0m\u001b[1minput_line_7:3:3: \u001b[0m\u001b[0;1;31merror: \u001b[0m\u001b[1muse of undeclared identifier 'A'\u001b[0m\n",
      "> A walkthrough the basics of the C++ \n",
      "\u001b[0;1;32m  ^\n",
      "\u001b[0m"
     ]
    },
    {
     "ename": "Interpreter Error",
     "evalue": "",
     "output_type": "error",
     "traceback": [
      "Interpreter Error: "
     ]
    }
   ],
   "source": [
    "# Week 1 - Part 1: Basics of C++\n",
    "> A walkthrough the basics of the C++ \n",
    "\n",
    "- toc: True\n",
    "- layout: page\n",
    "- course: \"sbe201\"\n",
    "- category: \"notes\"\n",
    "- year: \"2020\"\n",
    "- by: \"Asem\""
   ]
  },
  {
   "cell_type": "markdown",
   "metadata": {},
   "source": [
    "## Introduction\n",
    "\n",
    "## Variables and Data Structures\n",
    "\n",
    "### Variables\n",
    "\n",
    "### Primitive Data Types (PDT) in C++\n",
    "\n",
    "* `bool`: boolean variable holds logical value (i.e `true` or `false`), it occupies **1 byte** of memory.\n",
    "* `char`: a character (e.g `'a'`,`'b'`,..) , it occupies **1 byte** of memory.\n",
    "* `int`: an integer (e.g ...,-1,0,1,2,..), it occupies **4 bytes** of memory (for 64-bit machines).\n",
    "* `float`: a real-number-like (e.g 0.5, 3.141, 9.81), it occupies **4 bytes** of memory.\n",
    "* `double`: it is like float, but higher precision, occupies **8 bytes** of memory.\n",
    "* pointers: it holds an address of a variable in memory, occupies **8 bytes** of memory (for 64-bit machines).\n",
    "* references: an alias to a variable (same entity, but different name/label).\n",
    "\n",
    "Short story: pointers and references are made to make life easier and flexible when controlling variables as we will see later in this course.\n",
    "\n",
    "### Construction of Variables\n",
    "\n",
    "A variable basically has:\n",
    "\n",
    "1. **Data Type**: `int`, `char`, `bool`, ..., etc.\n",
    "2. **Name**: name of the variable to be used throughout your code.\n",
    "3. **Value**: the content of the variable.\n",
    "\n",
    "Don't mix between them!\n",
    "\n",
    "To construct a variable you need to:\n",
    "\n",
    "1. Declare a variable (Compiler Requirement).\n",
    "    * Indicate your variable **type**.\n",
    "    * Indicate your variable **name** that your are going to refer later.\n",
    "2. Initialize that variable (For god's sake).\n",
    "    * Give it an initial value.\n",
    "\n",
    "#### Example\n",
    "\n",
    "First for all:\n",
    "\n",
    "##### Comments in C++"
   ]
  },
  {
   "cell_type": "code",
   "execution_count": 1,
   "metadata": {},
   "outputs": [],
   "source": [
    "\n",
    "// What comes after double forward-slash (//) in a line is a comment.\n",
    "// Compiler Ignores comments.\n",
    "// Comments are not contributing to your application logic.\n",
    "// Comments are message to the readers of your code.\n"
   ]
  },
  {
   "cell_type": "code",
   "execution_count": 2,
   "metadata": {},
   "outputs": [],
   "source": [
    "{\n",
    "// Declare a character variable.\n",
    "// Variable names are not the actual value!\n",
    "char x;\n",
    "// What is the value of x?!\n",
    "// When not initialized, x will hold a value from garbage.\n",
    "\n",
    "// Please, always initialize your variables.\n",
    "\n",
    "// Declaration of character with initializng to value 's'.\n",
    "char y = 's';\n",
    "\n",
    "// Declaration of float whith initializing to 3.1415.\n",
    "float pi = 3.1415;\n",
    "\n",
    "\n",
    "// If no interesting value to initialize your variable with, initialize with 0.\n",
    "int k = 0;\n",
    "\n",
    "// You can initialize a variable with the value of another variable.\n",
    "int j = k;\n",
    "\n",
    "// Another way to initialize a variable is using braces, it is up to you.\n",
    "double e {2.71828};\n",
    "    \n",
    "}"
   ]
  },
  {
   "cell_type": "markdown",
   "metadata": {},
   "source": [
    "One way to avoid bugs (undefined behaviour) is initializing your variables.\n",
    "\n",
    "### Collections of Variables (Data Structures)\n",
    "\n",
    "\n",
    "### Construction of Collections (What?!)\n",
    "\n",
    "This is what we are going to study through this course:\n",
    "\n",
    "* Different data structures (i.e collections of elements): Array, Linked List, Stack, Queue, Tree.\n",
    "* How to **construct** collections.\n",
    "* How to **insert** elements to our collection.\n",
    "* How to **modify** element in our collection.\n",
    "* How to **delete** an element.\n",
    "* How to **traverse** our collection (i.e print all its elements).\n",
    "* Applying **algorithms** on our collection.\n",
    "* **Searching** for an element in our collection.\n",
    "\n",
    "## Basic Operations on Primitive Data Types (PDT)\n",
    "\n",
    "### Arithmetic Operations"
   ]
  },
  {
   "cell_type": "code",
   "execution_count": 3,
   "metadata": {},
   "outputs": [],
   "source": [
    "{\n",
    "\n",
    "int x = 12;\n",
    "int y = 5;\n",
    "\n",
    "x + y; // 17\n",
    "x - y; // 7\n",
    "x * y; // 60\n",
    "x / y; // 2\n",
    "x % y; // 2\n",
    "\n",
    "// x = x+y\n",
    "x += y; // x is now 17.\n",
    "\n",
    "// increment: x = x+1\n",
    "++x; // x is now 18.\n",
    "\n",
    "// x = x-y\n",
    "x -= y; // x is now 13.\n",
    "\n",
    "// decrement: x = x-1\n",
    "--x; // x is now 12.\n",
    "\n",
    "double u = 12.5;\n",
    "double v { 3 };\n",
    "\n",
    "u / v;  // 4.166667\n",
    "    \n",
    "}"
   ]
  },
  {
   "cell_type": "markdown",
   "metadata": {},
   "source": [
    "### Logical Operations"
   ]
  },
  {
   "cell_type": "code",
   "execution_count": 4,
   "metadata": {},
   "outputs": [
    {
     "name": "stderr",
     "output_type": "stream",
     "text": [
      "\u001b[1minput_line_10:6:2: \u001b[0m\u001b[0;1;30mnote: \u001b[0muse '=' to turn this equality comparison into an assignment\u001b[0m\n",
      "x==y; // False\n",
      "\u001b[0;1;32m ^~\n",
      "\u001b[0m\u001b[0;32m =\n",
      "\u001b[0m\u001b[1minput_line_10:8:2: \u001b[0m\u001b[0;1;30mnote: \u001b[0muse '|=' to turn this inequality comparison into an or-assignment\u001b[0m\n",
      "x!=y; // True\n",
      "\u001b[0;1;32m ^~\n",
      "\u001b[0m\u001b[0;32m |=\n",
      "\u001b[0m"
     ]
    }
   ],
   "source": [
    "{\n",
    "int x = 3;\n",
    "int y = 4;\n",
    "\n",
    "// equal\n",
    "x==y; // False\n",
    "\n",
    "// not equal\n",
    "x!=y; // True\n",
    "\n",
    "// less than\n",
    "x<y; // True\n",
    "\n",
    "// greater than\n",
    "x>y; // False\n",
    "\n",
    "// less than or equal\n",
    "x<=y; // True\n",
    "\n",
    "// greater than or equal\n",
    "x>=y; // False\n",
    "\n",
    "// logical and\n",
    "x == 3 && y > x; // True\n",
    "x != 3 && y > x; // False\n",
    "true && true; // True\n",
    "5 < 10 && 13 >= 11; // True\n",
    "5 % 2 == 1 || 3 / 2 > 1; // False\n",
    "5 % 2 == 1 || 3 / 2.0 > 1; // True\n",
    "\n",
    "// logical or\n",
    "true || true; // true\n",
    "true || false; // true\n",
    "false || true; // true\n",
    "false || false; // false\n",
    "5 % 2 == 1 || 3 / 2 > 1; // True\n",
    "}"
   ]
  },
  {
   "cell_type": "markdown",
   "metadata": {},
   "source": [
    "## Basic Control Statements\n",
    "\n",
    "### Conditions: `if`, `else if`, `else`, `switch`-`case`"
   ]
  },
  {
   "cell_type": "code",
   "execution_count": 6,
   "metadata": {},
   "outputs": [],
   "source": [
    "{\n",
    "bool myCondition = 5 % 2 == 1 || 3 / 2 > 1;\n",
    "\n",
    "if( myCondition )\n",
    "{\n",
    "  // Some operations here.\n",
    "}\n",
    "else\n",
    "{\n",
    "  // Other operations here.\n",
    "}\n",
    "\n",
    "int mark = 73;\n",
    "char grade = 'D';\n",
    "\n",
    "if( mark > 85 )\n",
    "{\n",
    "  grade = 'A';\n",
    "}\n",
    "else if( mark > 75 )\n",
    "{\n",
    "  grade = 'B';\n",
    "}\n",
    "else if( mark > 65 )\n",
    "{\n",
    "  grade = 'C';\n",
    "}\n",
    "else\n",
    "{\n",
    "  grade = 'D';\n",
    "}\n",
    "\n",
    "int minimumGrade = 0;\n",
    "\n",
    "switch (grade)\n",
    "{\n",
    "  case 'A':\n",
    "  {\n",
    "    minimumGrade = 85;\n",
    "  } break;\n",
    "  \n",
    "  case 'B':\n",
    "  {\n",
    "    minimumGrade = 75;\n",
    "  } break;\n",
    "  \n",
    "  case 'C':\n",
    "  {\n",
    "    minimumGrade = 65;\n",
    "  } break;\n",
    "  \n",
    "  default:\n",
    "  {\n",
    "    minimumGrade = 85;\n",
    "  } break;\n",
    "}\n",
    "\n",
    "\n",
    "}"
   ]
  },
  {
   "cell_type": "markdown",
   "metadata": {},
   "source": [
    "### Loops: `for`, `while`\n",
    "\n",
    "Note: `std::cout` is an object used to print primitive data type (PDT) variables into the terminal/console. Wait!! What is `std::`? Well, you can write your own functions and make them callable inside a `namespace`. Consider `namespace` feature as a way to organize functions into categories. C++ is shipped with a big library of functions, called **Standard Template Library (STL)**. If you need to use a function from the the C++ **STL** just indicate the `std` as a `namespace` when you call a function from **STL**. **Don't panic if you feel uncomfotable! everything is going to be clear incrementally.**"
   ]
  },
  {
   "cell_type": "code",
   "execution_count": 1,
   "metadata": {},
   "outputs": [
    {
     "name": "stdout",
     "output_type": "stream",
     "text": [
      "0 1 2 3 4 5 6 7 8 9 "
     ]
    }
   ],
   "source": [
    "#include <iostream>\n",
    "for( int i = 0; i < 10; ++i )\n",
    "{\n",
    "  std::cout << i << \" \";\n",
    "}\n",
    "// prints:0 1 2 3 4 5 6 7 8 9"
   ]
  },
  {
   "cell_type": "code",
   "execution_count": 2,
   "metadata": {},
   "outputs": [
    {
     "name": "stdout",
     "output_type": "stream",
     "text": [
      "0 1 2 3 4 5 6 7 8 9 "
     ]
    }
   ],
   "source": [
    "{\n",
    "int i = 0;\n",
    "while( i < 10 )\n",
    "{\n",
    "  std::cout << i << \" \";\n",
    "  ++i;\n",
    "}\n",
    "}\n",
    "// prints:0 1 2 3 4 5 6 7 8 9"
   ]
  },
  {
   "cell_type": "markdown",
   "metadata": {},
   "source": [
    "## Functions\n",
    "\n",
    "A function basically has:\n",
    "\n",
    "* **Name** to be used when calling this function.\n",
    "* **Return Type**: a function may return `int`, `double`, `char`, ... etc. Also, it may not return, so its return type is `void`.\n",
    "* **Arguments**: the variables given to your function so it makes some operations on.\n",
    "* **Definition**: the logic of your function.\n",
    "\n",
    "### Declaration and Definition of Functions\n",
    "\n",
    "Like variables, functions must be declared before you implement your logic in this function.\n",
    "\n",
    "* **Declaration** a function header that indicates the function **name**, **return type**, and **arguments**.\n",
    "* **Definition** is the function logic.\n"
   ]
  },
  {
   "cell_type": "code",
   "execution_count": 1,
   "metadata": {},
   "outputs": [],
   "source": [
    "double average( double a , double b ) // function header (Declaration)\n",
    "{ // function definition (logic) goes here\n",
    "  return ( a + b ) / 2;\n",
    "}"
   ]
  },
  {
   "cell_type": "code",
   "execution_count": 2,
   "metadata": {},
   "outputs": [],
   "source": [
    "double max( double a , double b ) // declaration\n",
    "{ // definition\n",
    "  if( a > b )\n",
    "  {\n",
    "    return a;\n",
    "  }\n",
    "  else\n",
    "  {\n",
    "    return b;\n",
    "  }\n",
    "}"
   ]
  },
  {
   "cell_type": "code",
   "execution_count": 3,
   "metadata": {},
   "outputs": [],
   "source": [
    "#include <iostream>\n",
    "int main()\n",
    "{\n",
    "  // Declare `x` as double and initialize it with the average of 13.5 and 21.0\n",
    "  // Note the type consistency between x and the function return type.\n",
    "  double x = average( 13.5 , 21.0 );\n",
    "\n",
    "  bool y = average( 11.5 , 15.0 ); // Compiler Error, type mismatch!\n",
    "\n",
    "  std::cout << max( 15.0 , 9.0 ) << std::endl; // prints: 15.0\n",
    "}"
   ]
  },
  {
   "cell_type": "markdown",
   "metadata": {},
   "source": [
    "Thanks to C++ Type System.\n",
    "\n",
    "### Scopes and Lifetime\n",
    "\n",
    "1. Variables are bound to scopes where they are declared. Scopes types:\n",
    "  * Local scope: any variable declared in a function is not accessible outside that function.\n",
    "  * Block: any variable declared inside braces `{` `}`, like the blocks of the `for`, `while`, `if`, `else if`, `else`, and `switch`-`case`.\n",
    "  * `Namespace` scope.\n",
    "2. Otherwise, if variable is declared outside the mentioned scopes, then it is a global variable. Global variables are accessible anywhere in the source file.\n",
    "3. Once the scope is terminated, all variables in that scope are destructed.\n",
    "\n",
    "#### Example of a local scope and a block scope"
   ]
  },
  {
   "cell_type": "code",
   "execution_count": 5,
   "metadata": {},
   "outputs": [],
   "source": [
    "double rectangleArea( double width , double height )\n",
    "{\n",
    "  // The arguments width and height are local variables to this function.\n",
    "  // width, height, area are not accessible outside.\n",
    "\n",
    "  double area = width * height;\n",
    "  return area; // return by value\n",
    "}"
   ]
  },
  {
   "cell_type": "code",
   "execution_count": null,
   "metadata": {},
   "outputs": [],
   "source": [
    "int main()\n",
    "{\n",
    "  // area here is completely different than area in the rectangleArea function.\n",
    "  // They have the same value. But they are not same the variables.\n",
    "  double area = rectangleArea( 12.9 , 2.5 );\n",
    "}"
   ]
  },
  {
   "cell_type": "markdown",
   "metadata": {},
   "source": [
    "#### Example of namespace scope\n",
    "\n",
    "Consider a situation when you need to implement a function that computes the area of rectangle and the area of right triangle. Using the same function name `area`!"
   ]
  },
  {
   "cell_type": "code",
   "execution_count": null,
   "metadata": {},
   "outputs": [],
   "source": [
    "// This function returns the rectangle area.\n",
    "double area( double width , double height )\n",
    "{\n",
    "  return width * height;\n",
    "}"
   ]
  },
  {
   "cell_type": "code",
   "execution_count": null,
   "metadata": {},
   "outputs": [],
   "source": [
    "// This function return the circle area.\n",
    "// Compiler error! multiple definitions of `area` function!\n",
    "double area( double base , double height )\n",
    "{\n",
    "  return ( base * height ) / 2;\n",
    "}"
   ]
  },
  {
   "cell_type": "code",
   "execution_count": null,
   "metadata": {},
   "outputs": [],
   "source": [
    "int main()\n",
    "{\n",
    "  // which definition (logic) ?!\n",
    "  double area = area( 12.9 , 2.5 );\n",
    "}"
   ]
  },
  {
   "cell_type": "markdown",
   "metadata": {},
   "source": [
    "**SOLUTION** using `namespace` feature:"
   ]
  },
  {
   "cell_type": "code",
   "execution_count": null,
   "metadata": {},
   "outputs": [],
   "source": [
    "namespace rectangle\n",
    "{\n",
    "  double area( double width , double height )\n",
    "  {\n",
    "    return width * height;\n",
    "  }\n",
    "}\n",
    "\n",
    "namespace triangle\n",
    "{\n",
    "  double area( double base , double height )\n",
    "  {\n",
    "    return ( base * height ) / 2;\n",
    "  }\n",
    "}\n",
    "\n",
    "int main()\n",
    "{\n",
    "  double rectangleArea = rectangle::area( 12.9 , 2.5 );\n",
    "  double triangleArea = triangle::area( 4.0 , 3.0 );\n",
    "\n",
    "  std::cout << rectangleArea << std::endl << triangleArea << std::endl;\n",
    "}"
   ]
  },
  {
   "cell_type": "markdown",
   "metadata": {},
   "source": [
    "Now you have a little sense about `std::cout` and `std` Namespace.\n",
    "\n",
    "## C++ Programs\n",
    "\n",
    "C++ is a compiled language which means you need to install a compiler in order to generate executable files for your application.\n",
    "\n",
    "A typical process of executable file generation is shown in this image:\n",
    "![Compilation](../media/compile.png)\n",
    "\n",
    "Courtesy to this [post @Quora](https://www.quora.com/How-do-I-convert-C%2B%2B-source-code-into-software/answer/Sri-Hari-Haran-Seenivasan?share=8dc30d5b&srid=h6xMq).\n",
    "\n",
    "### Writing C++ codes\n",
    "\n",
    "To write a c++ source code it is recommended to use an enhanced text editors. One of the light-weight editors developed by Microsoft and released as an open-source project is [Visual Studio Code](https://code.visualstudio.com). For ubuntu 64-bit machines, download from this [link](https://code.visualstudio.com/docs/?dv=linux64_deb).\n",
    "\n",
    "#### Installing VS Code\n",
    "\n",
    "After downloading, open a terminal at the directory where you downloaded the package file.\n",
    "\n",
    "```\n",
    "sudo dpkg -i ./<package file>\n",
    "code\n",
    "```\n",
    "\n",
    "### Boilerplate codes\n",
    "\n",
    "Boilerplate is an interesting term used to refer to the code you write that doesn't contribute to your application logic. If you are interested in *Etymology*, you can read more on the origin of boilerplate in [wikipedia](https://en.wikipedia.org/wiki/Boilerplate_code).\n",
    "In C++, you usually need to link against libraries, in particular the **STL**. In prior to use functions of other libraries or other source files in your project, you have to include the header files that contains the functions declarations to guide your compiler when you are using these functions. \n",
    "\n",
    "We may consider the syntax of including header files as *boilerplate* since it doesn't represent your project ideas (logic). \n",
    "\n",
    "### Writing your first application\n",
    "\n",
    "Let's write our first source file to go through the process of compilation and execution. Copy the following code to your VS Code editor. Save the file as `firstApp4SBME.cpp`."
   ]
  },
  {
   "cell_type": "code",
   "execution_count": 1,
   "metadata": {},
   "outputs": [],
   "source": [
    "#include <iostream>\n",
    "\n",
    "namespace rectangle\n",
    "{\n",
    "  double area( double width , double height )\n",
    "  {\n",
    "    return width * height;\n",
    "  }\n",
    "}\n",
    "\n",
    "namespace triangle\n",
    "{\n",
    "  double area( double base , double height )\n",
    "  {\n",
    "    return ( base * height ) / 2;\n",
    "  }\n",
    "}\n",
    "\n",
    "int main()\n",
    "{\n",
    "  double rectangleArea = rectangle::area( 12.9 , 2.5 );\n",
    "  double triangleArea = triangle::area( 4.0 , 3.0 );\n",
    "\n",
    "  std::cout << rectangleArea << std::endl << triangleArea << std::endl;\n",
    "}"
   ]
  },
  {
   "cell_type": "markdown",
   "metadata": {},
   "source": [
    "### Compiling your code\n",
    "\n",
    "Make sure you have the compiler installed in your machine.\n",
    "\n",
    "```bash\n",
    "g++ --version\n",
    "```\n",
    "\n",
    "this should print output like this:\n",
    "\n",
    "```bash\n",
    "this should print output like this:\n",
    "```terminal\n",
    "g++ (Ubuntu 7.4.0-1ubuntu1~18.04.1) 7.4.0\n",
    "Copyright (C) 2017 Free Software Foundation, Inc.\n",
    "This is free software; see the source for copying conditions.  There is NO\n",
    "warranty; not even for MERCHANTABILITY or FITNESS FOR A PARTICULAR PURPOSE\n",
    "```\n",
    "\n",
    "Otherwise, if not installed you should see:\n",
    "\n",
    "```shell\n",
    "g++: command not found\n",
    "```\n",
    "\n",
    "To install `GCC` compiler on your machine:\n",
    "\n",
    "```bash\n",
    "sudo apt-get install build-essential\n",
    "```\n",
    "\n",
    "After saving your file, open a terminal in the directory you saved the source at. And write the following command:\n",
    "\n",
    "```bash\n",
    "g++ -o firstAppSBME firstAppSBME.cpp\n",
    "```\n",
    "\n",
    "**CONGRATULATIONS!** you have built your first application.\n",
    "\n",
    "Execute the application:\n",
    "\n",
    "```bash\n",
    "./firstAppSBME\n",
    "```\n",
    "\n",
    "you should see:\n",
    "\n",
    "```shell\n",
    "32.25\n",
    "6\n",
    "```"
   ]
  },
  {
   "cell_type": "code",
   "execution_count": null,
   "metadata": {},
   "outputs": [],
   "source": []
  }
 ],
 "metadata": {
  "kernelspec": {
   "display_name": "C++17",
   "language": "C++17",
   "name": "xcpp17"
  },
  "language_info": {
   "codemirror_mode": "text/x-c++src",
   "file_extension": ".cpp",
   "mimetype": "text/x-c++src",
   "name": "c++",
   "version": "17"
  }
 },
 "nbformat": 4,
 "nbformat_minor": 4
}
