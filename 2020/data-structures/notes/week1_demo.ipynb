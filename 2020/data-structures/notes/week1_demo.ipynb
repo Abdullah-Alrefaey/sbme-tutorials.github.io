{
 "cells": [
  {
   "cell_type": "code",
   "execution_count": 3,
   "metadata": {},
   "outputs": [
    {
     "name": "stdout",
     "output_type": "stream",
     "text": [
      "T\n",
      "T\n"
     ]
    }
   ],
   "source": [
    "#include <iostream>\n",
    "\n",
    "{\n",
    "char base = 'A';\n",
    "char complementary = 'T';\n",
    "\n",
    "std::cin >> base;\n",
    "\n",
    "if( base == 'A' )\n",
    "{\n",
    "  complementary = 'T';\n",
    "}\n",
    "else if( base == 'C' )\n",
    "{\n",
    "  complementary = 'G';\n",
    "}\n",
    "else if( base == 'G' )\n",
    "{\n",
    "  complementary = 'C';\n",
    "}\n",
    "else\n",
    "{\n",
    "  complementary = 'A';\n",
    "}\n",
    "\n",
    "std::cout << complementary << std::endl;\n",
    "}"
   ]
  },
  {
   "cell_type": "code",
   "execution_count": null,
   "metadata": {},
   "outputs": [],
   "source": []
  }
 ],
 "metadata": {
  "kernelspec": {
   "display_name": "C++17",
   "language": "C++17",
   "name": "xcpp17"
  },
  "language_info": {
   "codemirror_mode": "text/x-c++src",
   "file_extension": ".cpp",
   "mimetype": "text/x-c++src",
   "name": "c++",
   "version": "17"
  }
 },
 "nbformat": 4,
 "nbformat_minor": 4
}
